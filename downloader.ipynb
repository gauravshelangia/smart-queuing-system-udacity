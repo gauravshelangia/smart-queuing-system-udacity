{
 "cells": [
  {
   "cell_type": "code",
   "execution_count": 1,
   "metadata": {},
   "outputs": [],
   "source": [
    "import os\n",
    "import tarfile\n",
    "\n",
    "def recursive_files(dir_name='.', ignore=None):\n",
    "    for dir_name,subdirs,files in os.walk(dir_name):\n",
    "        if ignore and os.path.basename(dir_name) in ignore:\n",
    "            continue\n",
    "\n",
    "        for file_name in files:\n",
    "            if ignore and file_name in ignore:\n",
    "                continue\n",
    "\n",
    "            yield os.path.join(dir_name, file_name)\n",
    "\n",
    "def make_tar_file(dir_name='.', target_file_name='workspace_archive.tar', ignore=None):\n",
    "    tar = tarfile.open(target_file_name, 'w')\n",
    "\n",
    "    for file_name in recursive_files(dir_name, ignore):\n",
    "        tar.add(file_name)\n",
    "\n",
    "    tar.close()\n",
    "\n",
    "\n",
    "dir_name = '.'\n",
    "target_file_name = 'workspace_archive.tar'\n",
    "# List of files/directories to ignore\n",
    "ignore = {'.ipynb_checkpoints', '__pycache__', target_file_name}\n",
    "\n",
    "make_tar_file(dir_name, target_file_name, ignore)\n"
   ]
  },
  {
   "cell_type": "code",
   "execution_count": 2,
   "metadata": {},
   "outputs": [
    {
     "name": "stdout",
     "output_type": "stream",
     "text": [
      "Create_Job_Submission_Script.ipynb  results\r\n",
      "Create_Python_Script.ipynb\t    Retail_Scenario.ipynb\r\n",
      "manufacture_inference_time.png\t    stderr.log\r\n",
      "Manufacturing_Scenario.ipynb\t    stdout.log\r\n",
      "original_videos\t\t\t    Transportation_Scenario.ipynb\r\n",
      "output.tgz\t\t\t    Untitled.ipynb\r\n",
      "person_detect.py\t\t    workspace_archive.tar\r\n",
      "queue_job.sh\r\n"
     ]
    }
   ],
   "source": [
    "!ls"
   ]
  },
  {
   "cell_type": "code",
   "execution_count": 4,
   "metadata": {},
   "outputs": [
    {
     "name": "stdout",
     "output_type": "stream",
     "text": [
      "total 62868\r\n",
      "drwxr-xr-x 3 root  root      4096 Apr 10 23:32 original_videos\r\n",
      "-rw-r--r-- 1 root  root     19288 Apr 18 00:51 Retail_Scenario.ipynb\r\n",
      "-rw-r--r-- 1 root  root     19425 Apr 18 01:03 Transportation_Scenario.ipynb\r\n",
      "-rw-r--r-- 1 root  root      7188 Apr 25 04:28 person_detect.py\r\n",
      "-rw-r--r-- 1 root  root     11783 Apr 25 04:28 Create_Python_Script.ipynb\r\n",
      "-rw-r--r-- 1 root  root       973 Apr 25 04:34 queue_job.sh\r\n",
      "-rw-r--r-- 1 root  root      3677 Apr 25 04:36 Create_Job_Submission_Script.ipynb\r\n",
      "drwxr-xr-x 3 39836 39836     4096 Apr 25 05:15 results\r\n",
      "-rw-r--r-- 1 39836 39836      105 Apr 25 05:15 stdout.log\r\n",
      "-rw-r--r-- 1 39836 39836      844 Apr 25 05:15 stderr.log\r\n",
      "-rw-r--r-- 1 root  root       662 Apr 25 05:15 output.tgz\r\n",
      "-rw-r--r-- 1 root  root    162810 Apr 25 05:16 Manufacturing_Scenario.ipynb\r\n",
      "-rw-r--r-- 1 root  root      1274 Apr 25 05:18 manufacture_inference_time.png\r\n",
      "-rw-r--r-- 1 root  root  64040960 Apr 25 05:26 workspace_archive.tar\r\n",
      "-rw-r--r-- 1 root  root      1874 Apr 25 05:27 Untitled.ipynb\r\n"
     ]
    }
   ],
   "source": [
    "!ls -ltr"
   ]
  },
  {
   "cell_type": "code",
   "execution_count": null,
   "metadata": {},
   "outputs": [],
   "source": []
  }
 ],
 "metadata": {
  "kernelspec": {
   "display_name": "Python 3",
   "language": "python",
   "name": "python3"
  },
  "language_info": {
   "codemirror_mode": {
    "name": "ipython",
    "version": 3
   },
   "file_extension": ".py",
   "mimetype": "text/x-python",
   "name": "python",
   "nbconvert_exporter": "python",
   "pygments_lexer": "ipython3",
   "version": "3.6.3"
  }
 },
 "nbformat": 4,
 "nbformat_minor": 2
}
